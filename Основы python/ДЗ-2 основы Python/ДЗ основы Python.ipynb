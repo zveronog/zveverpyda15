{
 "cells": [
  {
   "cell_type": "markdown",
   "metadata": {},
   "source": [
    "Домашнее задание к лекции \"Основы Python\""
   ]
  },
  {
   "cell_type": "markdown",
   "metadata": {},
   "source": [
    "Задание 1. Даны 2 переменных, в которых хранятся строки произвольной длины: phrase_1 и phrase_2.\n",
    "Напишите код, который проверяет какая из этих строк длиннее."
   ]
  },
  {
   "cell_type": "code",
   "execution_count": 22,
   "metadata": {},
   "outputs": [
    {
     "name": "stdout",
     "output_type": "stream",
     "text": [
      "два слова\n",
      "пук\n",
      "Фраза 1 длиннее фразы 2\n"
     ]
    }
   ],
   "source": [
    "phrase_1 = input()\n",
    "phrase_2 = input()\n",
    "if len(phrase_1) > len(phrase_2):\n",
    "    print('Фраза 1 длиннее фразы 2')\n",
    "elif len(phrase_1) < len(phrase_2):\n",
    "    print('Фраза 2 длиннее фразы 1')\n",
    "else:\n",
    "    print ('Фразы равной длины')"
   ]
  },
  {
   "cell_type": "markdown",
   "metadata": {},
   "source": [
    "Задание 2\n",
    "Дана переменная, в которой хранится четырехзначное число (год). Необходимо написать программу, которая выведет, является ли данный год високосным или обычным."
   ]
  },
  {
   "cell_type": "code",
   "execution_count": 25,
   "metadata": {},
   "outputs": [
    {
     "name": "stdout",
     "output_type": "stream",
     "text": [
      "897\n",
      "Обычный год\n"
     ]
    }
   ],
   "source": [
    "year = int(input())\n",
    "if (year % 4 == 0) and (year % 100 != 0) or (year % 400 == 0):\n",
    "    print('Високосный год')\n",
    "else:\n",
    "    print('Обычный год')"
   ]
  },
  {
   "cell_type": "markdown",
   "metadata": {},
   "source": [
    "Задание 3 \n",
    "Необходимо написать программу, которая будет запрашивать у пользователя месяц и дату рождения и выводить соответствующий знак зодиака."
   ]
  },
  {
   "cell_type": "code",
   "execution_count": 21,
   "metadata": {
    "scrolled": true
   },
   "outputs": [
    {
     "name": "stdout",
     "output_type": "stream",
     "text": [
      "Введите день29\n",
      "Введите месяцСентябрь\n",
      "Ваш знак зодиака: весы\n"
     ]
    }
   ],
   "source": [
    "user_day = int(input('Введите день'))\n",
    "user_mounth = input('Введите месяц')\n",
    "if (user_day >= 21 and user_mounth == 'Март') or (user_day <= 20 and user_mounth == 'Апрель'):\n",
    "    print ('Ваш знак зодиака: овен')\n",
    "if (user_day >= 21 and user_mounth == 'Апрель') or (user_day <= 21 and user_mounth == 'Мая'):    \n",
    "    print ('Ваш знак зодиака: телец')\n",
    "if (user_day >= 22 and user_mounth == 'Май') or (user_day <= 21 and user_mounth == 'Июнь'):\n",
    "    print ('Ваш знак зодиака: близнецы')\n",
    "if (user_day >= 22 and user_mounth == 'Июнь') or (user_day <= 22 and user_mounth == 'Июль'):\n",
    "    print ('Ваш знак зодиака: рак')\n",
    "if (user_day >= 23 and user_mounth == 'Июль') or (user_day <= 23 and user_mounth == 'Август'):\n",
    "    print ('Ваш знак зодиака: лев')\n",
    "if (user_day >= 24 and user_mounth == 'Август') or (user_day <= 23 and user_mounth == 'Сентябрь'):\n",
    "    print ('Ваш знак зодиака: дева')\n",
    "if (user_day >= 24 and user_mounth == 'Сентябрь') or (user_day <= 23 and user_mounth == 'Октябрь'):\n",
    "    print ('Ваш знак зодиака: весы')\n",
    "if (user_day >= 24 and user_mounth == 'Октябрь') or (user_day <= 22 and user_mounth == 'Ноябрь'):\n",
    "    print ('Ваш знак зодиака: скорпион')\n",
    "if (user_day >= 23 and user_mounth == 'Ноябрь') or (user_day <= 22 and user_mounth == 'Декабрь'):\n",
    "    print ('Ваш знак зодиака: стрелец')\n",
    "if (user_day >= 23 and user_mounth == 'Декабрь') or (user_day <= 20 and user_mounth == 'Январь'):\n",
    "    print ('Ваш знак зодиака: козерог')\n",
    "if (user_day >= 21 and user_mounth == 'Январь') or (user_day <= 19 and user_mounth == 'Февраль'):\n",
    "    print ('Ваш знак зодиака: водолей')\n",
    "if (user_day >= 20 and user_mounth == 'Февраль') or (user_day <= 20 and user_mounth == 'Март'):\n",
    "    print ('Ваш знак зодиака: рыбы')"
   ]
  },
  {
   "cell_type": "markdown",
   "metadata": {},
   "source": [
    "Задание 4\n",
    "Вам нужно написать программу для подбора упаковок по размерам товара. Размеры хранятся в переменных (в сантиметрах):\n",
    "\n",
    "width = 10\n",
    "length = 205\n",
    "height = 5\n",
    "Используйте следующие правила:\n",
    "\n",
    "если каждое из трех измерений менее 15 сантиметров, то выведите на экран \"Коробка №1\";\n",
    "если хотя бы одно из измерений больше 15 сантиметров, но менее 50 сантиметров, то выводите \"Коробка №2\";\n",
    "если длина товара больше 2 метров, то выводите \"Упаковка для лыж\";\n",
    "во всех остальных случаях выводите \"Стандартная коробка №3\""
   ]
  },
  {
   "cell_type": "code",
   "execution_count": 31,
   "metadata": {},
   "outputs": [
    {
     "name": "stdout",
     "output_type": "stream",
     "text": [
      "59\n",
      "59\n",
      "200\n",
      "\"Стандартная коробка №3\"\n"
     ]
    }
   ],
   "source": [
    "width = int(input())\n",
    "length = int(input())\n",
    "height = int(input())\n",
    "if width < 15 and length < 15 and height < 15:\n",
    "    print('\"Коробка №1\"')\n",
    "elif width < 50 or length < 50 or height < 50:\n",
    "    print('\"Коробка №2\"')  \n",
    "elif length > 200:\n",
    "    print('\"Упаковка для лыж\"')\n",
    "else:\n",
    "    print('\"Стандартная коробка №3\"')"
   ]
  }
 ],
 "metadata": {
  "kernelspec": {
   "display_name": "Python 3",
   "language": "python",
   "name": "python3"
  },
  "language_info": {
   "codemirror_mode": {
    "name": "ipython",
    "version": 3
   },
   "file_extension": ".py",
   "mimetype": "text/x-python",
   "name": "python",
   "nbconvert_exporter": "python",
   "pygments_lexer": "ipython3",
   "version": "3.7.6"
  }
 },
 "nbformat": 4,
 "nbformat_minor": 4
}
