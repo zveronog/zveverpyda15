{
 "cells": [
  {
   "cell_type": "markdown",
   "metadata": {},
   "source": [
    "Задание 1\n",
    "Печатные газеты использовали свой формат дат для каждого выпуска. Для каждой газеты из списка напишите формат указанной даты для перевода в объект datetime:\n",
    "The Moscow Times - Wednesday, October 2, 2002\n",
    "The Guardian - Friday, 11.10.13\n",
    "Daily News - Thursday, 18 August 1977"
   ]
  },
  {
   "cell_type": "code",
   "execution_count": 14,
   "metadata": {},
   "outputs": [],
   "source": [
    "import datetime"
   ]
  },
  {
   "cell_type": "code",
   "execution_count": 11,
   "metadata": {},
   "outputs": [
    {
     "name": "stdout",
     "output_type": "stream",
     "text": [
      "Thursday, October 29, 2020\n",
      "Thursday, 10.29.20\n",
      "Thursday, 29 October 2020\n"
     ]
    }
   ],
   "source": [
    "date = datetime.datetime.today()\n",
    "print(date.strftime('%A, %B %d, %Y'))\n",
    "print(date.strftime('%A, %m.%d.%y'))\n",
    "print(date.strftime('%A, %d %B %Y'))"
   ]
  },
  {
   "cell_type": "markdown",
   "metadata": {},
   "source": [
    "Задание 2\n",
    "Дан поток дат в формате YYYY-MM-DD, в которых встречаются некорректные значения:\n",
    "stream = [‘2018-04-02’, ‘2018-02-29’, ‘2018-19-02’]\n",
    "\n",
    "Напишите функцию, которая проверяет эти даты на корректность. Т. е. для каждой даты возвращает True (дата корректна) или False (некорректная дата)."
   ]
  },
  {
   "cell_type": "code",
   "execution_count": 23,
   "metadata": {},
   "outputs": [],
   "source": [
    "stream = ['2018-04-02', '2018-02-29', '2018-19-02']"
   ]
  },
  {
   "cell_type": "code",
   "execution_count": 29,
   "metadata": {},
   "outputs": [
    {
     "name": "stdout",
     "output_type": "stream",
     "text": [
      "true\n",
      "false\n",
      "false\n"
     ]
    }
   ],
   "source": [
    "for date in stream:\n",
    "    try:\n",
    "        datetime.datetime.strptime(date, '%Y-%m-%d')\n",
    "        print('true')\n",
    "    except:\n",
    "        print('false')"
   ]
  },
  {
   "cell_type": "markdown",
   "metadata": {},
   "source": [
    "Задание 3\n",
    "Напишите функцию date_range, которая возвращает список дат за период от start_date до end_date. Даты должны вводиться в формате YYYY-MM-DD. В случае неверного формата или при start_date > end_date должен возвращаться пустой список."
   ]
  },
  {
   "cell_type": "code",
   "execution_count": 50,
   "metadata": {},
   "outputs": [
    {
     "name": "stdout",
     "output_type": "stream",
     "text": [
      "введите начальную дату в формате YYYY-MM-DD: 2020-10-20\n",
      "введите конечную дату в формате YYYY-MM-DD: 2020-10-19\n"
     ]
    },
    {
     "data": {
      "text/plain": [
       "[]"
      ]
     },
     "execution_count": 50,
     "metadata": {},
     "output_type": "execute_result"
    }
   ],
   "source": [
    "start_date = input('введите начальную дату в формате YYYY-MM-DD: ')\n",
    "end_date = input('введите конечную дату в формате YYYY-MM-DD: ')\n",
    "def date_range():\n",
    "    d_range = []\n",
    "    try:\n",
    "        if datetime.datetime.strptime(start_date, '%Y-%m-%d'):\n",
    "            if datetime.datetime.strptime(end_date, '%Y-%m-%d'):\n",
    "                if (datetime.datetime.strptime(end_date, '%Y-%m-%d') - datetime.datetime.strptime(start_date, '%Y-%m-%d')).days >=0:\n",
    "                    for i in range((datetime.datetime.strptime(end_date, '%Y-%m-%d') - datetime.datetime.strptime(start_date, '%Y-%m-%d')).days + 1):\n",
    "                        day = (datetime.datetime.strptime(start_date, '%Y-%m-%d') + datetime.timedelta(i))\n",
    "                        print(day.strftime('%Y-%m-%d'))\n",
    "                else:\n",
    "                    return d_range\n",
    "    except:\n",
    "        return d_range \n",
    "    \n",
    "    \n",
    "date_range()"
   ]
  },
  {
   "cell_type": "code",
   "execution_count": null,
   "metadata": {},
   "outputs": [],
   "source": [
    "2020-10-20\n",
    "2020-10-21"
   ]
  }
 ],
 "metadata": {
  "kernelspec": {
   "display_name": "Python 3",
   "language": "python",
   "name": "python3"
  },
  "language_info": {
   "codemirror_mode": {
    "name": "ipython",
    "version": 3
   },
   "file_extension": ".py",
   "mimetype": "text/x-python",
   "name": "python",
   "nbconvert_exporter": "python",
   "pygments_lexer": "ipython3",
   "version": "3.7.6"
  }
 },
 "nbformat": 4,
 "nbformat_minor": 4
}
